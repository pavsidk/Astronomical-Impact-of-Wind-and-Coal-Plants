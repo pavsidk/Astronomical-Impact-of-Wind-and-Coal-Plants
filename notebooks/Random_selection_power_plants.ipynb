{
 "cells": [
  {
   "cell_type": "code",
   "execution_count": 38,
   "id": "cdf6c8c7-358a-4352-a68a-7bde5ed1198a",
   "metadata": {},
   "outputs": [],
   "source": [
    "import matplotlib.pyplot as plt\n",
    "import pandas as pd\n",
    "from PIL import Image\n",
    "import numpy as np\n",
    "import random\n",
    "from sklearn.linear_model import LinearRegression\n",
    "from sklearn.metrics import r2_score\n",
    "import requests\n",
    "import time\n",
    "from shapely.geometry import Point\n",
    "import geopandas as gpd"
   ]
  },
  {
   "cell_type": "code",
   "execution_count": 40,
   "id": "50a32f44-bb77-4907-b743-5be19cd18fdb",
   "metadata": {},
   "outputs": [],
   "source": [
    "import random\n",
    "\n",
    "bounds = [-179, -52, 8, 74]"
   ]
  },
  {
   "cell_type": "code",
   "execution_count": 42,
   "id": "178e5747-af92-424f-9a26-b51b8bdad635",
   "metadata": {},
   "outputs": [],
   "source": [
    "#for coal\n",
    "\n",
    "#use file path to 2___Plant_Y2022 - Plant.csv \n",
    "df_with_2022 = pd.read_csv(\"../data/external/us_eia_2022_plants.csv\")\n",
    "\n",
    "df_with_2022.columns = df_with_2022.iloc[0]\n",
    "df_with_2022 = df_with_2022.drop(0).reset_index(drop=True)\n",
    "\n",
    "#use file path to Power_Plants.csv\n",
    "data_df = pd.read_csv(\"../data/external/us_eia_operable_plants.csv\")\n",
    "data_df = data_df[data_df['PrimSource'].str.contains('coal', case=False, na=False)]\n",
    "\n",
    "\n",
    "#converts both dataframe's \"plant code\" columns into integer\n",
    "df_with_2022['Plant Code'] = df_with_2022['Plant Code'].astype('int64')\n",
    "data_df['Plant_Code'] = data_df['Plant_Code'].astype('int64')\n",
    "\n",
    "code_list_2022 = df_with_2022['Plant Code']\n",
    "\n",
    "filtered_only_2022 = data_df[data_df['Plant_Code'].isin(code_list_2022)]\n",
    "\n",
    "amount_of_coordinates = 100\n",
    "x = filtered_only_2022[['Longitude', 'Latitude']]\n",
    "Longitude = x['Longitude'].tolist()\n",
    "Latitude = x['Latitude'].tolist()\n",
    "\n",
    "x = filtered_only_2022[['Longitude', 'Latitude', 'Plant_Name']]\n",
    "\n",
    "Longitude = x['Longitude'].tolist()\n",
    "Latitude = x['Latitude'].tolist()\n",
    "Plant_Name = x['Plant_Name']\n",
    "\n",
    "coal_random_lats = []\n",
    "coal_random_longs = []\n",
    "for i in range(amount_of_coordinates):\n",
    "    index = Longitude.index(random.choice(Longitude))\n",
    "    coal_random_longs.append(Longitude[index])\n",
    "    coal_random_lats.append(Latitude[index])"
   ]
  },
  {
   "cell_type": "code",
   "execution_count": 44,
   "id": "97b19140-ce8d-424c-aa03-4ebdaebcf6e1",
   "metadata": {},
   "outputs": [],
   "source": [
    "coal_data = {\n",
    "    'Latitude': coal_random_lats,\n",
    "    'Longitude': coal_random_longs,\n",
    "}\n",
    "\n",
    "coal_random_coordinates = pd.DataFrame(coal_data)\n",
    "\n",
    "#use file path to coal_random_coordinates_2022.csv\n",
    "coal_random_coordinates.to_csv(\"../data/processed/coal_random_coordinates_2022.csv\")"
   ]
  },
  {
   "cell_type": "code",
   "execution_count": 46,
   "id": "c0c54ad2-56b7-47f6-9c00-1abe946468d7",
   "metadata": {},
   "outputs": [],
   "source": [
    "#for wind\n",
    "\n",
    "#use file path to 2___Plant_Y2022 - Plant.csv \n",
    "df_with_2022 = pd.read_csv(\"../data/external/us_eia_2022_plants.csv\")\n",
    "\n",
    "df_with_2022.columns = df_with_2022.iloc[0]\n",
    "df_with_2022 = df_with_2022.drop(0).reset_index(drop=True)\n",
    "\n",
    "#use file path to us_eia_operable_plants.csv\n",
    "data_df = pd.read_csv(\"../data/external/us_eia_operable_plants.csv\")\n",
    "data_df = data_df[data_df['PrimSource'].str.contains('wind', case=False, na=False)]\n",
    "\n",
    "\n",
    "#converts both dataframe's \"plant code\" columns into integer\n",
    "df_with_2022['Plant Code'] = df_with_2022['Plant Code'].astype('int64')\n",
    "data_df['Plant_Code'] = data_df['Plant_Code'].astype('int64')\n",
    "\n",
    "code_list_2022 = df_with_2022['Plant Code']\n",
    "\n",
    "filtered_only_2022 = data_df[data_df['Plant_Code'].isin(code_list_2022)]\n",
    "\n",
    "amount_of_coordinates = 100\n",
    "x = filtered_only_2022[['Longitude', 'Latitude']]\n",
    "Longitude = x['Longitude'].tolist()\n",
    "Latitude = x['Latitude'].tolist()\n",
    "\n",
    "x = filtered_only_2022[['Longitude', 'Latitude', 'Plant_Name']]\n",
    "\n",
    "Longitude = x['Longitude'].tolist()\n",
    "Latitude = x['Latitude'].tolist()\n",
    "Plant_Name = x['Plant_Name']\n",
    "\n",
    "wind_random_lats = []\n",
    "wind_random_longs = []\n",
    "for i in range(amount_of_coordinates):\n",
    "    index = Longitude.index(random.choice(Longitude))\n",
    "    wind_random_longs.append(Longitude[index])\n",
    "    wind_random_lats.append(Latitude[index])"
   ]
  },
  {
   "cell_type": "code",
   "execution_count": 48,
   "id": "b87aca2c-a9b5-474b-a719-deb6a42aaf3d",
   "metadata": {},
   "outputs": [],
   "source": [
    "wind_data = {\n",
    "    'Latitude': wind_random_lats,\n",
    "    'Longitude': wind_random_longs,\n",
    "}\n",
    "\n",
    "wind_random_coordinates = pd.DataFrame(wind_data)\n",
    "\n",
    "#use file path to wind_random_coordinates_2022.csv\n",
    "wind_random_coordinates.to_csv(\"../data/processed/wind_random_coordinates_2022.csv\")"
   ]
  },
  {
   "cell_type": "code",
   "execution_count": null,
   "id": "7179c446-bf6a-4fa1-9b05-ad80aa755056",
   "metadata": {},
   "outputs": [],
   "source": []
  }
 ],
 "metadata": {
  "kernelspec": {
   "display_name": "Python 3 (ipykernel)",
   "language": "python",
   "name": "python3"
  },
  "language_info": {
   "codemirror_mode": {
    "name": "ipython",
    "version": 3
   },
   "file_extension": ".py",
   "mimetype": "text/x-python",
   "name": "python",
   "nbconvert_exporter": "python",
   "pygments_lexer": "ipython3",
   "version": "3.11.7"
  }
 },
 "nbformat": 4,
 "nbformat_minor": 5
}
